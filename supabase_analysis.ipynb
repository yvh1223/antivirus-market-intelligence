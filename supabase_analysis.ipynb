{
 "cells": [
  {
   "cell_type": "markdown",
   "metadata": {},
   "source": [
    "# Fixed Antivirus Market Analysis with Supabase\n",
    "\n",
    "This notebook fixes the column reference issues and works with your actual database schema.\n",
    "\n",
    "## Prerequisites\n",
    "1. Ensure `.env` file is configured with your Supabase credentials\n",
    "2. Install required packages: `pip install supabase pandas matplotlib plotly python-dotenv`"
   ]
  },
  {
   "cell_type": "code",
   "execution_count": 1,
   "metadata": {},
   "outputs": [
    {
     "name": "stdout",
     "output_type": "stream",
     "text": [
      "📚 Fixed Supabase Analysis Notebook Loaded!\n",
      "Environment variables loaded: True\n"
     ]
    }
   ],
   "source": [
    "# Import required libraries\n",
    "import os\n",
    "import pandas as pd\n",
    "import matplotlib.pyplot as plt\n",
    "import plotly.express as px\n",
    "import plotly.graph_objects as go\n",
    "from supabase import create_client, Client\n",
    "from dotenv import load_dotenv\n",
    "from datetime import datetime, timedelta\n",
    "import warnings\n",
    "warnings.filterwarnings('ignore')\n",
    "\n",
    "# Load environment variables\n",
    "load_dotenv()\n",
    "\n",
    "print(\"📚 Fixed Supabase Analysis Notebook Loaded!\")\n",
    "print(\"Environment variables loaded:\", bool(os.getenv('SUPABASE_URL')))"
   ]
  },
  {
   "cell_type": "markdown",
   "metadata": {},
   "source": [
    "## 1. Setup Supabase Connection"
   ]
  },
  {
   "cell_type": "code",
   "execution_count": 2,
   "metadata": {},
   "outputs": [
    {
     "name": "stdout",
     "output_type": "stream",
     "text": [
      "✅ Supabase client initialized successfully\n",
      "Connected to: https://goybldxsztgkcipfhpyd.supabase.co\n"
     ]
    }
   ],
   "source": [
    "# Initialize Supabase client\n",
    "SUPABASE_URL = os.getenv('SUPABASE_URL')\n",
    "SUPABASE_KEY = os.getenv('SUPABASE_ANON_KEY')\n",
    "\n",
    "if not SUPABASE_URL or not SUPABASE_KEY:\n",
    "    print(\"❌ Supabase credentials not found in .env file\")\n",
    "    print(\"Please ensure SUPABASE_URL and SUPABASE_ANON_KEY are set\")\n",
    "else:\n",
    "    supabase: Client = create_client(SUPABASE_URL, SUPABASE_KEY)\n",
    "    print(\"✅ Supabase client initialized successfully\")\n",
    "    print(f\"Connected to: {SUPABASE_URL}\")"
   ]
  },
  {
   "cell_type": "markdown",
   "metadata": {},
   "source": [
    "## 2. Test Connection and Explore Schema"
   ]
  },
  {
   "cell_type": "code",
   "execution_count": 3,
   "metadata": {},
   "outputs": [
    {
     "name": "stdout",
     "output_type": "stream",
     "text": [
      "✅ Connection successful! Found 3 collection jobs\n",
      "\n",
      "Collection Jobs columns: ['id', 'job_uuid', 'product_id', 'platform_id', 'job_type', 'parameters', 'status', 'total_reviews_found', 'reviews_collected', 'reviews_processed', 'reviews_failed', 'collection_rate_per_minute', 'processing_rate_per_minute', 'error_message', 'error_count', 'retry_count', 'max_retries', 'scheduled_at', 'started_at', 'completed_at', 'next_run_at', 'created_by', 'created_at', 'updated_at']\n",
      "\n",
      "Sample jobs:\n",
      "  Job 94: Status=completed, Reviews=0\n",
      "  Job 95: Status=completed, Reviews=0\n",
      "  Job 96: Status=completed, Reviews=50000\n"
     ]
    }
   ],
   "source": [
    "# Test connection and explore the actual schema\n",
    "try:\n",
    "    # Test collection_jobs table\n",
    "    response = supabase.table('collection_jobs').select('*').limit(3).execute()\n",
    "    \n",
    "    if response.data:\n",
    "        print(f\"✅ Connection successful! Found {len(response.data)} collection jobs\")\n",
    "        \n",
    "        # Show actual columns\n",
    "        sample_job = response.data[0]\n",
    "        print(f\"\\nCollection Jobs columns: {list(sample_job.keys())}\")\n",
    "        \n",
    "        # Show sample data\n",
    "        print(\"\\nSample jobs:\")\n",
    "        for job in response.data:\n",
    "            print(f\"  Job {job['id']}: Status={job['status']}, Reviews={job.get('reviews_collected', 0)}\")\n",
    "    else:\n",
    "        print(\"📊 Connection successful but no collection jobs found\")\n",
    "        \n",
    "except Exception as e:\n",
    "    print(f\"❌ Connection test failed: {str(e)}\")"
   ]
  },
  {
   "cell_type": "code",
   "execution_count": 4,
   "metadata": {},
   "outputs": [
    {
     "name": "stdout",
     "output_type": "stream",
     "text": [
      "✅ Reviews table accessible: 2 sample records\n",
      "\n",
      "Reviews columns: ['id', 'product_id', 'platform_id', 'platform_review_id', 'user_name', 'user_id', 'title', 'content', 'rating', 'review_date', 'country_code', 'country_name', 'language_code', 'language_name', 'helpful_count', 'total_votes', 'verified_purchase', 'version_reviewed', 'review_source_url', 'word_count', 'character_count', 'has_images', 'has_video', 'sentiment_score', 'sentiment_label', 'confidence_score', 'key_topics', 'issues_mentioned', 'features_mentioned', 'suggested_improvements', 'competitive_mentions', 'priority_level', 'requires_response', 'response_urgency', 'processed_at', 'processing_version', 'ai_model_used', 'processing_duration_ms', 'spam_probability', 'authenticity_score', 'helpfulness_score', 'created_at', 'updated_at']\n",
      "\n",
      "Sample review data:\n",
      "  id: 258303\n",
      "  product_id: 21\n",
      "  platform_id: 11\n",
      "  platform_review_id: 7f94277d-ef00-4efb-b740-8837765104cd\n",
      "  user_name: John Clark\n",
      "  user_id: https://play-lh.googleusercontent.com/a-/ALV-UjXot...\n",
      "  content: Tired of ads want you gone from my computer bye by...\n",
      "  rating: 1\n",
      "  review_date: 2023-09-06T17:14:09+00:00\n",
      "  country_code: US\n",
      "  language_code: en\n",
      "  helpful_count: 1\n",
      "  total_votes: 0\n",
      "  version_reviewed: 6.4.1.285\n",
      "  word_count: 11\n",
      "  character_count: 51\n",
      "  has_images: False\n",
      "  has_video: False\n",
      "  sentiment_score: -0.8\n",
      "  sentiment_label: negative\n",
      "  confidence_score: 0.95\n",
      "  key_topics: [\"ads\", \"user_experience\"]\n",
      "  issues_mentioned: [\"ads\"]\n",
      "  priority_level: high\n",
      "  requires_response: False\n",
      "  processed_at: 2025-06-21T05:38:35.640204+00:00\n",
      "  processing_version: 3.1\n",
      "  ai_model_used: gpt-4o-mini\n",
      "  created_at: 2025-06-20T15:27:40.198574+00:00\n",
      "  updated_at: 2025-06-20T15:27:40.198574+00:00\n"
     ]
    }
   ],
   "source": [
    "# Explore reviews table schema\n",
    "try:\n",
    "    response = supabase.table('reviews').select('*').limit(2).execute()\n",
    "    \n",
    "    if response.data:\n",
    "        print(f\"✅ Reviews table accessible: {len(response.data)} sample records\")\n",
    "        \n",
    "        # Show actual columns\n",
    "        sample_review = response.data[0]\n",
    "        print(f\"\\nReviews columns: {list(sample_review.keys())}\")\n",
    "        \n",
    "        # Show sample data structure\n",
    "        print(\"\\nSample review data:\")\n",
    "        for key, value in sample_review.items():\n",
    "            if value is not None:\n",
    "                value_str = str(value)[:50] + \"...\" if len(str(value)) > 50 else str(value)\n",
    "                print(f\"  {key}: {value_str}\")\n",
    "            \n",
    "    else:\n",
    "        print(\"📊 Reviews table exists but no data found\")\n",
    "        \n",
    "except Exception as e:\n",
    "    print(f\"❌ Reviews table error: {str(e)}\")"
   ]
  },
  {
   "cell_type": "markdown",
   "metadata": {},
   "source": [
    "## 3. Get Reviews Data (Fixed)"
   ]
  },
  {
   "cell_type": "code",
   "execution_count": 5,
   "metadata": {},
   "outputs": [
    {
     "name": "stdout",
     "output_type": "stream",
     "text": [
      "✅ Retrieved 1000 reviews\n",
      "Date range: 2022-06-10 14:55:17+00:00 to 2023-09-06 17:14:09+00:00\n",
      "Rating range: 1 to 5\n",
      "\n",
      "Available columns: ['id', 'rating', 'review_date', 'title', 'content', 'user_name', 'product_id', 'platform_id', 'sentiment_score', 'sentiment_label', 'key_topics', 'issues_mentioned']\n",
      "\n",
      "Sample reviews:\n"
     ]
    },
    {
     "data": {
      "text/html": [
       "<div>\n",
       "<style scoped>\n",
       "    .dataframe tbody tr th:only-of-type {\n",
       "        vertical-align: middle;\n",
       "    }\n",
       "\n",
       "    .dataframe tbody tr th {\n",
       "        vertical-align: top;\n",
       "    }\n",
       "\n",
       "    .dataframe thead th {\n",
       "        text-align: right;\n",
       "    }\n",
       "</style>\n",
       "<table border=\"1\" class=\"dataframe\">\n",
       "  <thead>\n",
       "    <tr style=\"text-align: right;\">\n",
       "      <th></th>\n",
       "      <th>rating</th>\n",
       "      <th>review_date</th>\n",
       "      <th>title</th>\n",
       "    </tr>\n",
       "  </thead>\n",
       "  <tbody>\n",
       "    <tr>\n",
       "      <th>0</th>\n",
       "      <td>1</td>\n",
       "      <td>2023-09-06 17:14:09+00:00</td>\n",
       "      <td>None</td>\n",
       "    </tr>\n",
       "    <tr>\n",
       "      <th>1</th>\n",
       "      <td>4</td>\n",
       "      <td>2022-11-05 17:01:48+00:00</td>\n",
       "      <td>None</td>\n",
       "    </tr>\n",
       "    <tr>\n",
       "      <th>2</th>\n",
       "      <td>5</td>\n",
       "      <td>2022-11-05 16:58:05+00:00</td>\n",
       "      <td>None</td>\n",
       "    </tr>\n",
       "    <tr>\n",
       "      <th>3</th>\n",
       "      <td>5</td>\n",
       "      <td>2022-11-05 16:18:05+00:00</td>\n",
       "      <td>None</td>\n",
       "    </tr>\n",
       "    <tr>\n",
       "      <th>4</th>\n",
       "      <td>5</td>\n",
       "      <td>2022-11-05 15:39:57+00:00</td>\n",
       "      <td>None</td>\n",
       "    </tr>\n",
       "  </tbody>\n",
       "</table>\n",
       "</div>"
      ],
      "text/plain": [
       "   rating               review_date title\n",
       "0       1 2023-09-06 17:14:09+00:00  None\n",
       "1       4 2022-11-05 17:01:48+00:00  None\n",
       "2       5 2022-11-05 16:58:05+00:00  None\n",
       "3       5 2022-11-05 16:18:05+00:00  None\n",
       "4       5 2022-11-05 15:39:57+00:00  None"
      ]
     },
     "metadata": {},
     "output_type": "display_data"
    }
   ],
   "source": [
    "# Fetch reviews with correct column names\n",
    "try:\n",
    "    # Use the actual column names from your schema\n",
    "    response = supabase.table('reviews').select(\n",
    "        'id, rating, review_date, title, content, user_name, product_id, platform_id, '\n",
    "        'sentiment_score, sentiment_label, key_topics, issues_mentioned'\n",
    "    ).limit(1000).execute()\n",
    "    \n",
    "    reviews_df = pd.DataFrame(response.data)\n",
    "    \n",
    "    if not reviews_df.empty:\n",
    "        # Convert data types\n",
    "        reviews_df['review_date'] = pd.to_datetime(reviews_df['review_date'])\n",
    "        reviews_df['rating'] = pd.to_numeric(reviews_df['rating'], errors='coerce')\n",
    "        \n",
    "        print(f\"✅ Retrieved {len(reviews_df)} reviews\")\n",
    "        print(f\"Date range: {reviews_df['review_date'].min()} to {reviews_df['review_date'].max()}\")\n",
    "        print(f\"Rating range: {reviews_df['rating'].min()} to {reviews_df['rating'].max()}\")\n",
    "        \n",
    "        # Show column info\n",
    "        print(f\"\\nAvailable columns: {list(reviews_df.columns)}\")\n",
    "        \n",
    "        # Show sample data with correct column names\n",
    "        print(\"\\nSample reviews:\")\n",
    "        sample_cols = ['rating', 'review_date', 'title']\n",
    "        available_cols = [col for col in sample_cols if col in reviews_df.columns]\n",
    "        if available_cols:\n",
    "            display(reviews_df[available_cols].head())\n",
    "        \n",
    "    else:\n",
    "        print(\"📊 No reviews found in database\")\n",
    "        reviews_df = pd.DataFrame()\n",
    "        \n",
    "except Exception as e:\n",
    "    print(f\"❌ Error fetching reviews: {str(e)}\")\n",
    "    reviews_df = pd.DataFrame()"
   ]
  },
  {
   "cell_type": "markdown",
   "metadata": {},
   "source": [
    "## 4. Basic Analysis - Rating Distribution (Fixed)"
   ]
  },
  {
   "cell_type": "code",
   "execution_count": 7,
   "metadata": {},
   "outputs": [
    {
     "name": "stdout",
     "output_type": "stream",
     "text": [
      "📊 BASIC REVIEW STATISTICS\n",
      "========================================\n",
      "Total Reviews: 1,000\n",
      "Average Rating: 4.57\n",
      "Most Common Rating: 5\n",
      "\n",
      "⭐ Rating Distribution:\n",
      "  1★: 61 reviews (6.1%)\n",
      "  2★: 13 reviews (1.3%)\n",
      "  3★: 33 reviews (3.3%)\n",
      "  4★: 84 reviews (8.4%)\n",
      "  5★: 809 reviews (80.9%)\n"
     ]
    },
    {
     "data": {
      "image/png": "[encoded data removed]",
      "text/plain": [
       "<Figure size 1500x600 with 2 Axes>"
      ]
     },
     "metadata": {},
     "output_type": "display_data"
    }
   ],
   "source": [
    "if not reviews_df.empty and 'rating' in reviews_df.columns:\n",
    "    # Basic statistics\n",
    "    print(\"📊 BASIC REVIEW STATISTICS\")\n",
    "    print(\"=\" * 40)\n",
    "    print(f\"Total Reviews: {len(reviews_df):,}\")\n",
    "    print(f\"Average Rating: {reviews_df['rating'].mean():.2f}\")\n",
    "    \n",
    "    # Check for mode\n",
    "    mode_rating = reviews_df['rating'].mode()\n",
    "    if not mode_rating.empty:\n",
    "        print(f\"Most Common Rating: {mode_rating.iloc[0]}\")\n",
    "    \n",
    "    # Rating distribution\n",
    "    rating_counts = reviews_df['rating'].value_counts().sort_index()\n",
    "    print(\"\\n⭐ Rating Distribution:\")\n",
    "    for rating, count in rating_counts.items():\n",
    "        percentage = (count / len(reviews_df)) * 100\n",
    "        print(f\"  {rating}★: {count:,} reviews ({percentage:.1f}%)\")\n",
    "        \n",
    "    # Visualize rating distribution\n",
    "    fig, (ax1, ax2) = plt.subplots(1, 2, figsize=(15, 6))\n",
    "    \n",
    "    # Bar chart\n",
    "    rating_counts.plot(kind='bar', color='skyblue', alpha=0.7, ax=ax1)\n",
    "    ax1.set_title('Review Rating Distribution')\n",
    "    ax1.set_xlabel('Rating (Stars)')\n",
    "    ax1.set_ylabel('Number of Reviews')\n",
    "    ax1.tick_params(axis='x', rotation=0)\n",
    "    ax1.grid(axis='y', alpha=0.3)\n",
    "    \n",
    "    # Pie chart\n",
    "    rating_counts.plot(kind='pie', autopct='%1.1f%%', ax=ax2)\n",
    "    ax2.set_title('Rating Distribution (Percentage)')\n",
    "    ax2.set_ylabel('')  # Remove default ylabel\n",
    "    \n",
    "    plt.tight_layout()\n",
    "    plt.show()\n",
    "    \n",
    "else:\n",
    "    print(\"❌ No rating data available for analysis\")"
   ]
  },
  {
   "cell_type": "markdown",
   "metadata": {},
   "source": [
    "## 5. Get Product Information (Fixed)"
   ]
  },
  {
   "cell_type": "code",
   "execution_count": 8,
   "metadata": {},
   "outputs": [
    {
     "name": "stdout",
     "output_type": "stream",
     "text": [
      "✅ Found 8 products\n",
      "Products available:\n",
      "  ID 19: Norton 360 (NorTech (Broadcom))\n",
      "  ID 20: Norton AntiVirus Plus (NorTech (Broadcom))\n",
      "  ID 21: McAfee Total Protection (McAfee)\n",
      "  ID 22: McAfee AntiVirus Plus (McAfee)\n",
      "  ID 23: Bitdefender Total Security (Bitdefender)\n",
      "  ID 24: Bitdefender Antivirus Plus (Bitdefender)\n",
      "  ID 25: Kaspersky Internet Security (Kaspersky)\n",
      "  ID 26: Kaspersky Anti-Virus (Kaspersky)\n",
      "\n",
      "✅ Found 9 platforms\n",
      "Platforms available:\n",
      "  ID 10: apple_store (Apple App Store)\n",
      "  ID 11: google_play (Google Play Store)\n",
      "  ID 12: amazon (Amazon)\n",
      "  ID 13: trustpilot (Trustpilot)\n",
      "  ID 14: pcworld (PCWorld)\n",
      "  ID 15: techradar (TechRadar)\n",
      "  ID 16: cnet (CNET)\n",
      "  ID 17: best_buy (Best Buy)\n",
      "  ID 18: reddit (Reddit)\n"
     ]
    }
   ],
   "source": [
    "# Get products and platforms information separately (no joins needed)\n",
    "try:\n",
    "    # Get products\n",
    "    products_response = supabase.table('products').select('*').execute()\n",
    "    products_df = pd.DataFrame(products_response.data)\n",
    "    \n",
    "    if not products_df.empty:\n",
    "        print(f\"✅ Found {len(products_df)} products\")\n",
    "        print(\"Products available:\")\n",
    "        for _, product in products_df.iterrows():\n",
    "            print(f\"  ID {product['id']}: {product['name']} ({product['company']})\")\n",
    "        \n",
    "        # Create product lookup\n",
    "        product_lookup = dict(zip(products_df['id'], products_df['name']))\n",
    "        company_lookup = dict(zip(products_df['id'], products_df['company']))\n",
    "    else:\n",
    "        print(\"📊 No products found\")\n",
    "        product_lookup = {}\n",
    "        company_lookup = {}\n",
    "        \n",
    "except Exception as e:\n",
    "    print(f\"❌ Error fetching products: {str(e)}\")\n",
    "    product_lookup = {}\n",
    "    company_lookup = {}\n",
    "\n",
    "try:\n",
    "    # Get platforms\n",
    "    platforms_response = supabase.table('platforms').select('*').execute()\n",
    "    platforms_df = pd.DataFrame(platforms_response.data)\n",
    "    \n",
    "    if not platforms_df.empty:\n",
    "        print(f\"\\n✅ Found {len(platforms_df)} platforms\")\n",
    "        print(\"Platforms available:\")\n",
    "        for _, platform in platforms_df.iterrows():\n",
    "            print(f\"  ID {platform['id']}: {platform['name']} ({platform['display_name']})\")\n",
    "        \n",
    "        # Create platform lookup\n",
    "        platform_lookup = dict(zip(platforms_df['id'], platforms_df['name']))\n",
    "    else:\n",
    "        print(\"📊 No platforms found\")\n",
    "        platform_lookup = {}\n",
    "        \n",
    "except Exception as e:\n",
    "    print(f\"❌ Error fetching platforms: {str(e)}\")\n",
    "    platform_lookup = {}"
   ]
  },
  {
   "cell_type": "markdown",
   "metadata": {},
   "source": [
    "## 6. Enhanced Reviews Analysis with Product Names"
   ]
  },
  {
   "cell_type": "code",
   "execution_count": 9,
   "metadata": {},
   "outputs": [
    {
     "name": "stdout",
     "output_type": "stream",
     "text": [
      "✅ Enhanced reviews data with product and platform information\n",
      "\n",
      "📱 Product Analysis:\n"
     ]
    },
    {
     "data": {
      "text/html": [
       "<div>\n",
       "<style scoped>\n",
       "    .dataframe tbody tr th:only-of-type {\n",
       "        vertical-align: middle;\n",
       "    }\n",
       "\n",
       "    .dataframe tbody tr th {\n",
       "        vertical-align: top;\n",
       "    }\n",
       "\n",
       "    .dataframe thead th {\n",
       "        text-align: right;\n",
       "    }\n",
       "</style>\n",
       "<table border=\"1\" class=\"dataframe\">\n",
       "  <thead>\n",
       "    <tr style=\"text-align: right;\">\n",
       "      <th></th>\n",
       "      <th>Review_Count</th>\n",
       "      <th>Avg_Rating</th>\n",
       "      <th>Platforms</th>\n",
       "    </tr>\n",
       "    <tr>\n",
       "      <th>product_name</th>\n",
       "      <th></th>\n",
       "      <th></th>\n",
       "      <th></th>\n",
       "    </tr>\n",
       "  </thead>\n",
       "  <tbody>\n",
       "    <tr>\n",
       "      <th>Norton 360</th>\n",
       "      <td>960</td>\n",
       "      <td>4.60</td>\n",
       "      <td>google_play</td>\n",
       "    </tr>\n",
       "    <tr>\n",
       "      <th>McAfee Total Protection</th>\n",
       "      <td>40</td>\n",
       "      <td>3.85</td>\n",
       "      <td>google_play</td>\n",
       "    </tr>\n",
       "  </tbody>\n",
       "</table>\n",
       "</div>"
      ],
      "text/plain": [
       "                         Review_Count  Avg_Rating    Platforms\n",
       "product_name                                                  \n",
       "Norton 360                        960        4.60  google_play\n",
       "McAfee Total Protection            40        3.85  google_play"
      ]
     },
     "metadata": {},
     "output_type": "display_data"
    },
    {
     "name": "stdout",
     "output_type": "stream",
     "text": [
      "\n",
      "📊 Platform Analysis:\n"
     ]
    },
    {
     "data": {
      "text/html": [
       "<div>\n",
       "<style scoped>\n",
       "    .dataframe tbody tr th:only-of-type {\n",
       "        vertical-align: middle;\n",
       "    }\n",
       "\n",
       "    .dataframe tbody tr th {\n",
       "        vertical-align: top;\n",
       "    }\n",
       "\n",
       "    .dataframe thead th {\n",
       "        text-align: right;\n",
       "    }\n",
       "</style>\n",
       "<table border=\"1\" class=\"dataframe\">\n",
       "  <thead>\n",
       "    <tr style=\"text-align: right;\">\n",
       "      <th></th>\n",
       "      <th>Review_Count</th>\n",
       "      <th>Avg_Rating</th>\n",
       "    </tr>\n",
       "    <tr>\n",
       "      <th>platform_name</th>\n",
       "      <th></th>\n",
       "      <th></th>\n",
       "    </tr>\n",
       "  </thead>\n",
       "  <tbody>\n",
       "    <tr>\n",
       "      <th>google_play</th>\n",
       "      <td>1000</td>\n",
       "      <td>4.57</td>\n",
       "    </tr>\n",
       "  </tbody>\n",
       "</table>\n",
       "</div>"
      ],
      "text/plain": [
       "               Review_Count  Avg_Rating\n",
       "platform_name                          \n",
       "google_play            1000        4.57"
      ]
     },
     "metadata": {},
     "output_type": "display_data"
    }
   ],
   "source": [
    "# Add product and platform names to reviews data\n",
    "if not reviews_df.empty and product_lookup and platform_lookup:\n",
    "    # Map product and platform names\n",
    "    reviews_df['product_name'] = reviews_df['product_id'].map(product_lookup)\n",
    "    reviews_df['company_name'] = reviews_df['product_id'].map(company_lookup)\n",
    "    reviews_df['platform_name'] = reviews_df['platform_id'].map(platform_lookup)\n",
    "    \n",
    "    print(\"✅ Enhanced reviews data with product and platform information\")\n",
    "    \n",
    "    # Product breakdown\n",
    "    print(\"\\n📱 Product Analysis:\")\n",
    "    product_summary = reviews_df.groupby('product_name').agg({\n",
    "        'rating': ['count', 'mean'],\n",
    "        'platform_name': lambda x: ', '.join(x.unique())\n",
    "    }).round(2)\n",
    "    \n",
    "    product_summary.columns = ['Review_Count', 'Avg_Rating', 'Platforms']\n",
    "    product_summary = product_summary.sort_values('Review_Count', ascending=False)\n",
    "    \n",
    "    display(product_summary)\n",
    "    \n",
    "    # Platform breakdown\n",
    "    print(\"\\n📊 Platform Analysis:\")\n",
    "    platform_summary = reviews_df.groupby('platform_name').agg({\n",
    "        'rating': ['count', 'mean']\n",
    "    }).round(2)\n",
    "    \n",
    "    platform_summary.columns = ['Review_Count', 'Avg_Rating']\n",
    "    display(platform_summary)\n",
    "    \n",
    "else:\n",
    "    print(\"⚠️ Cannot enhance reviews data - missing product/platform information\")"
   ]
  },
  {
   "cell_type": "markdown",
   "metadata": {},
   "source": [
    "## 7. Quick Summary Report"
   ]
  },
  {
   "cell_type": "code",
   "execution_count": 10,
   "metadata": {},
   "outputs": [
    {
     "name": "stdout",
     "output_type": "stream",
     "text": [
      "📊 QUICK SUMMARY REPORT\n",
      "==================================================\n",
      "Analysis Date: 2025-06-22 09:40:46\n",
      "\n",
      "📈 Data Overview:\n",
      "  • Total Reviews Analyzed: 1,000\n",
      "  • Products Covered: 2\n",
      "  • Platforms: google_play\n",
      "  • Date Range: 2022-06-10 to 2023-09-06\n",
      "\n",
      "⭐ Rating Analysis:\n",
      "  • Overall Average Rating: 4.57★\n",
      "  • Highest Rated Product: Norton 360 (4.60★)\n",
      "  • Lowest Rated Product: McAfee Total Protection (3.85★)\n",
      "  • Most Reviewed Product: Norton 360 (960 reviews)\n",
      "\n",
      "🚨 Quality Metrics:\n",
      "  • Poor Reviews (1-2★): 7.4%\n",
      "  • Excellent Reviews (5★): 80.9%\n",
      "  ✅ Positive: Strong customer satisfaction indicated!\n",
      "\n",
      "🤖 AI Insights:\n",
      "  • Sentiment Analysis Available: 1,000 reviews\n",
      "  • Positive Sentiment: 89.1%\n",
      "\n",
      "==================================================\n",
      "📚 Analysis complete! Check the visualizations above for insights.\n"
     ]
    }
   ],
   "source": [
    "# Generate a quick summary report\n",
    "print(\"📊 QUICK SUMMARY REPORT\")\n",
    "print(\"=\" * 50)\n",
    "print(f\"Analysis Date: {datetime.now().strftime('%Y-%m-%d %H:%M:%S')}\")\n",
    "\n",
    "if not reviews_df.empty:\n",
    "    print(f\"\\n📈 Data Overview:\")\n",
    "    print(f\"  • Total Reviews Analyzed: {len(reviews_df):,}\")\n",
    "    \n",
    "    if 'product_name' in reviews_df.columns:\n",
    "        unique_products = reviews_df['product_name'].dropna().nunique()\n",
    "        print(f\"  • Products Covered: {unique_products}\")\n",
    "        \n",
    "    if 'platform_name' in reviews_df.columns:\n",
    "        platforms = reviews_df['platform_name'].dropna().unique()\n",
    "        print(f\"  • Platforms: {', '.join(platforms)}\")\n",
    "        \n",
    "    if 'review_date' in reviews_df.columns:\n",
    "        date_range = f\"{reviews_df['review_date'].min().strftime('%Y-%m-%d')} to {reviews_df['review_date'].max().strftime('%Y-%m-%d')}\"\n",
    "        print(f\"  • Date Range: {date_range}\")\n",
    "    \n",
    "    print(f\"\\n⭐ Rating Analysis:\")\n",
    "    if 'rating' in reviews_df.columns:\n",
    "        avg_rating = reviews_df['rating'].mean()\n",
    "        print(f\"  • Overall Average Rating: {avg_rating:.2f}★\")\n",
    "        \n",
    "        # Best and worst rated products\n",
    "        if 'product_name' in reviews_df.columns:\n",
    "            product_ratings = reviews_df.dropna(subset=['product_name']).groupby('product_name')['rating'].mean().sort_values(ascending=False)\n",
    "            if not product_ratings.empty:\n",
    "                print(f\"  • Highest Rated Product: {product_ratings.index[0]} ({product_ratings.iloc[0]:.2f}★)\")\n",
    "                if len(product_ratings) > 1:\n",
    "                    print(f\"  • Lowest Rated Product: {product_ratings.index[-1]} ({product_ratings.iloc[-1]:.2f}★)\")\n",
    "        \n",
    "        # Most reviewed product\n",
    "        if 'product_name' in reviews_df.columns:\n",
    "            product_counts = reviews_df['product_name'].value_counts()\n",
    "            if not product_counts.empty:\n",
    "                print(f\"  • Most Reviewed Product: {product_counts.index[0]} ({product_counts.iloc[0]:,} reviews)\")\n",
    "    \n",
    "    # Quality metrics\n",
    "    if 'rating' in reviews_df.columns:\n",
    "        poor_reviews_pct = (reviews_df['rating'] <= 2).sum() / len(reviews_df) * 100\n",
    "        excellent_reviews_pct = (reviews_df['rating'] == 5).sum() / len(reviews_df) * 100\n",
    "        \n",
    "        print(f\"\\n🚨 Quality Metrics:\")\n",
    "        print(f\"  • Poor Reviews (1-2★): {poor_reviews_pct:.1f}%\")\n",
    "        print(f\"  • Excellent Reviews (5★): {excellent_reviews_pct:.1f}%\")\n",
    "        \n",
    "        if poor_reviews_pct > 20:\n",
    "            print(f\"  ⚠️ Warning: High percentage of poor reviews detected!\")\n",
    "        elif excellent_reviews_pct > 50:\n",
    "            print(f\"  ✅ Positive: Strong customer satisfaction indicated!\")\n",
    "    \n",
    "    # AI insights if available\n",
    "    if 'sentiment_label' in reviews_df.columns:\n",
    "        sentiment_data = reviews_df[reviews_df['sentiment_label'].notna()]\n",
    "        if not sentiment_data.empty:\n",
    "            positive_pct = (sentiment_data['sentiment_label'] == 'positive').sum() / len(sentiment_data) * 100\n",
    "            print(f\"\\n🤖 AI Insights:\")\n",
    "            print(f\"  • Sentiment Analysis Available: {len(sentiment_data):,} reviews\")\n",
    "            print(f\"  • Positive Sentiment: {positive_pct:.1f}%\")\n",
    "            \n",
    "else:\n",
    "    print(\"\\n❌ No data available for analysis\")\n",
    "    print(\"💡 Suggestions:\")\n",
    "    print(\"  • Check your Supabase connection\")\n",
    "    print(\"  • Verify data exists in your database\")\n",
    "    print(\"  • Run data collection first\")\n",
    "\n",
    "print(f\"\\n\" + \"=\" * 50)\n",
    "print(f\"📚 Analysis complete! Check the visualizations above for insights.\")"
   ]
  }
 ],
 "metadata": {
  "kernelspec": {
   "display_name": "antivirus_analysis_env",
   "language": "python",
   "name": "python3"
  },
  "language_info": {
   "codemirror_mode": {
    "name": "ipython",
    "version": 3
   },
   "file_extension": ".py",
   "mimetype": "text/x-python",
   "name": "python",
   "nbconvert_exporter": "python",
   "pygments_lexer": "ipython3",
   "version": "3.13.5"
  }
 },
 "nbformat": 4,
 "nbformat_minor": 4
}
